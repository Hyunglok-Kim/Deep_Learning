{
  "nbformat": 4,
  "nbformat_minor": 0,
  "metadata": {
    "colab": {
      "name": "Untitled0.ipynb",
      "provenance": []
    },
    "kernelspec": {
      "name": "python3",
      "display_name": "Python 3"
    },
    "language_info": {
      "name": "python"
    },
    "accelerator": "TPU"
  },
  "cells": [
    {
      "cell_type": "code",
      "metadata": {
        "id": "SryFxBR4m76I"
      },
      "source": [
        "# Python ≥3.5 is required\n",
        "import sys\n",
        "assert sys.version_info >= (3, 5)\n",
        "\n",
        "# Scikit-Learn ≥0.20 is required\n",
        "import sklearn\n",
        "assert sklearn.__version__ >= \"0.20\"\n",
        "\n",
        "# TensorFlow ≥2.0-preview is required\n",
        "import tensorflow as tf\n",
        "from tensorflow import keras\n",
        "assert tf.__version__ >= \"2.0\"\n",
        "\n",
        "# Common imports\n",
        "import numpy as np\n",
        "import os\n",
        "\n",
        "# to make this notebook's output stable across runs\n",
        "np.random.seed(42)\n",
        "tf.random.set_seed(42)\n",
        "\n",
        "# To plot pretty figures\n",
        "%matplotlib inline\n",
        "import matplotlib as mpl\n",
        "import matplotlib.pyplot as plt\n",
        "mpl.rc('axes', labelsize=14)\n",
        "mpl.rc('xtick', labelsize=12)\n",
        "mpl.rc('ytick', labelsize=12)\n",
        "\n",
        "def plot_series(series, y=None, y_pred=None, x_label=\"$t$\", y_label=\"$x(t)$\"):\n",
        "    plt.plot(series, \".-\")\n",
        "    if y is not None:\n",
        "        plt.plot(n_steps, y, \"bx\", markersize=10)\n",
        "    if y_pred is not None:\n",
        "        plt.plot(n_steps, y_pred, \"ro\")\n",
        "    plt.grid(True)\n",
        "    if x_label:\n",
        "        plt.xlabel(x_label, fontsize=16)\n",
        "    if y_label:\n",
        "        plt.ylabel(y_label, fontsize=16, rotation=0)\n",
        "    plt.hlines(0, 0, 100, linewidth=1)\n",
        "    plt.axis([0, n_steps + 1, -1, 1])\n",
        "    \n",
        "def plot_multiple_forecasts(X, Y, Y_pred):\n",
        "    n_steps = X.shape[1]\n",
        "    ahead = Y.shape[1]\n",
        "    plot_series(X[0, :, 0])\n",
        "    plt.plot(np.arange(n_steps, n_steps + ahead), Y[0, :, 0], \"bx-\", label=\"Actual\")\n",
        "    plt.plot(np.arange(n_steps, n_steps + ahead), Y_pred[0, :, 0], \"ro-\", label=\"Forecast\", markersize=8)\n",
        "    plt.axis([0, n_steps + ahead, -1, 1])\n",
        "    plt.legend(fontsize=14)"
      ],
      "execution_count": 12,
      "outputs": []
    },
    {
      "cell_type": "code",
      "metadata": {
        "id": "w9esZd_CnFyM"
      },
      "source": [
        "def generate_time_series(batch_size, n_steps):\n",
        "    freq1, freq2, offsets1, offsets2 = np.random.rand(4, batch_size, 1)\n",
        "    time = np.linspace(0, 1, n_steps)\n",
        "    series = 0.5 * np.sin((time - offsets1) * (freq1 * 10 + 10))  #   wave 1\n",
        "    series += 0.2 * np.sin((time - offsets2) * (freq2 * 20 + 20)) # + wave 2\n",
        "    series += 0.1 * (np.random.rand(batch_size, n_steps) - 0.5)   # + noise\n",
        "    return series[..., np.newaxis].astype(np.float32)"
      ],
      "execution_count": 8,
      "outputs": []
    },
    {
      "cell_type": "code",
      "metadata": {
        "id": "VWtPmScCnHJb"
      },
      "source": [
        "n_steps = 50\n",
        "series = generate_time_series(10000, n_steps + 1)\n",
        "X_train, y_train = series[:7000, :n_steps], series[:7000, -1]\n",
        "X_valid, y_valid = series[7000:9000, :n_steps], series[7000:9000, -1]\n",
        "X_test, y_test = series[9000:, :n_steps], series[9000:, -1]"
      ],
      "execution_count": 9,
      "outputs": []
    },
    {
      "cell_type": "code",
      "metadata": {
        "colab": {
          "base_uri": "https://localhost:8080/"
        },
        "id": "CPHzOHBJnH7r",
        "outputId": "bd73b0f0-ec0f-4fca-d86f-a7eda803060a"
      },
      "source": [
        "n_steps = 50\n",
        "f_stepts = 10\n",
        "series = generate_time_series(10000, n_steps + f_stepts)\n",
        "X_train = series[:7000, :n_steps]\n",
        "X_valid = series[7000:9000, :n_steps]\n",
        "X_test = series[9000:, :n_steps]\n",
        "Y = np.empty((10000, n_steps, f_stepts))\n",
        "for step_ahead in range(1, f_stepts + 1):\n",
        "    Y[..., step_ahead - 1] = series[..., step_ahead:step_ahead + n_steps, 0]\n",
        "Y_train = Y[:7000]\n",
        "Y_valid = Y[7000:9000]\n",
        "Y_test = Y[9000:]\n",
        "\n",
        "def last_time_step_mse(Y_true, Y_pred):\n",
        "    return keras.metrics.mean_squared_error(Y_true[:, -1], Y_pred[:, -1])\n",
        "    \n",
        "model = keras.models.Sequential([\n",
        "    keras.layers.LSTM(5, return_sequences=True, input_shape=[None, 1]),\n",
        "    keras.layers.TimeDistributed(keras.layers.Dense(f_stepts))\n",
        "])\n",
        "\n",
        "model.compile(loss=\"mse\", optimizer=\"adam\")\n",
        "history = model.fit(X_train, Y_train, epochs=30,\n",
        "                    validation_data=(X_valid, Y_valid))"
      ],
      "execution_count": 10,
      "outputs": [
        {
          "output_type": "stream",
          "text": [
            "Epoch 1/30\n",
            "219/219 [==============================] - 7s 22ms/step - loss: 0.1276 - val_loss: 0.0840\n",
            "Epoch 2/30\n",
            "219/219 [==============================] - 4s 20ms/step - loss: 0.0695 - val_loss: 0.0617\n",
            "Epoch 3/30\n",
            "219/219 [==============================] - 4s 20ms/step - loss: 0.0594 - val_loss: 0.0574\n",
            "Epoch 4/30\n",
            "219/219 [==============================] - 4s 21ms/step - loss: 0.0563 - val_loss: 0.0549\n",
            "Epoch 5/30\n",
            "219/219 [==============================] - 4s 20ms/step - loss: 0.0541 - val_loss: 0.0530\n",
            "Epoch 6/30\n",
            "219/219 [==============================] - 5s 21ms/step - loss: 0.0524 - val_loss: 0.0514\n",
            "Epoch 7/30\n",
            "219/219 [==============================] - 4s 20ms/step - loss: 0.0510 - val_loss: 0.0501\n",
            "Epoch 8/30\n",
            "219/219 [==============================] - 4s 20ms/step - loss: 0.0499 - val_loss: 0.0491\n",
            "Epoch 9/30\n",
            "219/219 [==============================] - 5s 21ms/step - loss: 0.0490 - val_loss: 0.0484\n",
            "Epoch 10/30\n",
            "219/219 [==============================] - 4s 20ms/step - loss: 0.0484 - val_loss: 0.0479\n",
            "Epoch 11/30\n",
            "219/219 [==============================] - 4s 20ms/step - loss: 0.0480 - val_loss: 0.0475\n",
            "Epoch 12/30\n",
            "219/219 [==============================] - 5s 21ms/step - loss: 0.0477 - val_loss: 0.0473\n",
            "Epoch 13/30\n",
            "219/219 [==============================] - 5s 21ms/step - loss: 0.0474 - val_loss: 0.0469\n",
            "Epoch 14/30\n",
            "219/219 [==============================] - 5s 21ms/step - loss: 0.0471 - val_loss: 0.0466\n",
            "Epoch 15/30\n",
            "219/219 [==============================] - 5s 21ms/step - loss: 0.0467 - val_loss: 0.0462\n",
            "Epoch 16/30\n",
            "219/219 [==============================] - 5s 21ms/step - loss: 0.0463 - val_loss: 0.0457\n",
            "Epoch 17/30\n",
            "219/219 [==============================] - 5s 21ms/step - loss: 0.0457 - val_loss: 0.0450\n",
            "Epoch 18/30\n",
            "219/219 [==============================] - 5s 22ms/step - loss: 0.0450 - val_loss: 0.0443\n",
            "Epoch 19/30\n",
            "219/219 [==============================] - 5s 22ms/step - loss: 0.0444 - val_loss: 0.0437\n",
            "Epoch 20/30\n",
            "219/219 [==============================] - 5s 21ms/step - loss: 0.0439 - val_loss: 0.0432\n",
            "Epoch 21/30\n",
            "219/219 [==============================] - 5s 21ms/step - loss: 0.0434 - val_loss: 0.0429\n",
            "Epoch 22/30\n",
            "219/219 [==============================] - 5s 21ms/step - loss: 0.0430 - val_loss: 0.0422\n",
            "Epoch 23/30\n",
            "219/219 [==============================] - 5s 21ms/step - loss: 0.0424 - val_loss: 0.0415\n",
            "Epoch 24/30\n",
            "219/219 [==============================] - 5s 21ms/step - loss: 0.0416 - val_loss: 0.0404\n",
            "Epoch 25/30\n",
            "219/219 [==============================] - 5s 21ms/step - loss: 0.0403 - val_loss: 0.0391\n",
            "Epoch 26/30\n",
            "219/219 [==============================] - 5s 21ms/step - loss: 0.0393 - val_loss: 0.0383\n",
            "Epoch 27/30\n",
            "219/219 [==============================] - 4s 20ms/step - loss: 0.0387 - val_loss: 0.0378\n",
            "Epoch 28/30\n",
            "219/219 [==============================] - 5s 21ms/step - loss: 0.0383 - val_loss: 0.0374\n",
            "Epoch 29/30\n",
            "219/219 [==============================] - 4s 20ms/step - loss: 0.0379 - val_loss: 0.0372\n",
            "Epoch 30/30\n",
            "219/219 [==============================] - 4s 20ms/step - loss: 0.0376 - val_loss: 0.0368\n"
          ],
          "name": "stdout"
        }
      ]
    },
    {
      "cell_type": "code",
      "metadata": {
        "colab": {
          "base_uri": "https://localhost:8080/",
          "height": 293
        },
        "id": "txe4FggQnXwM",
        "outputId": "3206968a-e645-43c4-c41d-a6140cc55683"
      },
      "source": [
        "series = generate_time_series(1, 50 + f_stepts)\n",
        "X_new, Y_new = series[:, :50, :], series[:, 50:, :]\n",
        "Y_pred = model.predict(X_new)[:, -1][..., np.newaxis]\n",
        "\n",
        "plot_multiple_forecasts(X_new, Y_new, Y_pred)\n",
        "plt.show()"
      ],
      "execution_count": 13,
      "outputs": [
        {
          "output_type": "display_data",
          "data": {
            "image/png": "[encoded data removed]",
            "text/plain": [
              "<Figure size 432x288 with 1 Axes>"
            ]
          },
          "metadata": {
            "tags": [],
            "needs_background": "light"
          }
        }
      ]
    }
  ]
}